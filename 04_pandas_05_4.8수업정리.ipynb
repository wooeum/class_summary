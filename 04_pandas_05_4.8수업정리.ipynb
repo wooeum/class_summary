{
 "cells": [
  {
   "cell_type": "markdown",
   "id": "17c95f54-3b0c-48ce-a88f-7bbb6ba09dc8",
   "metadata": {},
   "source": [
    "# Data 전처리(Data Preprocessing)"
   ]
  },
  {
   "cell_type": "code",
   "execution_count": 1,
   "id": "b51daf0f-01b1-48e9-97e6-08d19fd51005",
   "metadata": {
    "collapsed": true,
    "jupyter": {
     "outputs_hidden": true
    },
    "scrolled": true
   },
   "outputs": [
    {
     "name": "stdout",
     "output_type": "stream",
     "text": [
      "Collecting scikit-learn\n",
      "  Downloading scikit_learn-1.4.1.post1-cp311-cp311-win_amd64.whl.metadata (11 kB)\n",
      "Requirement already satisfied: numpy<2.0,>=1.19.5 in c:\\users\\user\\appdata\\local\\programs\\python\\python311\\lib\\site-packages (from scikit-learn) (1.26.4)\n",
      "Collecting scipy>=1.6.0 (from scikit-learn)\n",
      "  Downloading scipy-1.13.0-cp311-cp311-win_amd64.whl.metadata (60 kB)\n",
      "     ---------------------------------------- 0.0/60.6 kB ? eta -:--:--\n",
      "     --------------------------------- ------ 51.2/60.6 kB 2.6 MB/s eta 0:00:01\n",
      "     ---------------------------------------- 60.6/60.6 kB 1.6 MB/s eta 0:00:00\n",
      "Collecting joblib>=1.2.0 (from scikit-learn)\n",
      "  Downloading joblib-1.3.2-py3-none-any.whl.metadata (5.4 kB)\n",
      "Collecting threadpoolctl>=2.0.0 (from scikit-learn)\n",
      "  Downloading threadpoolctl-3.4.0-py3-none-any.whl.metadata (13 kB)\n",
      "Downloading scikit_learn-1.4.1.post1-cp311-cp311-win_amd64.whl (10.6 MB)\n",
      "   ---------------------------------------- 0.0/10.6 MB ? eta -:--:--\n",
      "   ----- ---------------------------------- 1.6/10.6 MB 33.6 MB/s eta 0:00:01\n",
      "   -------------------- ------------------- 5.4/10.6 MB 69.4 MB/s eta 0:00:01\n",
      "   -------------------------------------- - 10.1/10.6 MB 80.9 MB/s eta 0:00:01\n",
      "   ---------------------------------------- 10.6/10.6 MB 93.8 MB/s eta 0:00:00\n",
      "Downloading joblib-1.3.2-py3-none-any.whl (302 kB)\n",
      "   ---------------------------------------- 0.0/302.2 kB ? eta -:--:--\n",
      "   ---------------------------------------- 302.2/302.2 kB ? eta 0:00:00\n",
      "Downloading scipy-1.13.0-cp311-cp311-win_amd64.whl (46.2 MB)\n",
      "   ---------------------------------------- 0.0/46.2 MB ? eta -:--:--\n",
      "   --- ------------------------------------ 4.5/46.2 MB 94.8 MB/s eta 0:00:01\n",
      "   ----- ---------------------------------- 6.3/46.2 MB 101.2 MB/s eta 0:00:01\n",
      "   ----- ---------------------------------- 6.3/46.2 MB 101.2 MB/s eta 0:00:01\n",
      "   ------- -------------------------------- 8.4/46.2 MB 44.8 MB/s eta 0:00:01\n",
      "   ----------- ---------------------------- 13.0/46.2 MB 50.4 MB/s eta 0:00:01\n",
      "   ----------- ---------------------------- 13.6/46.2 MB 50.4 MB/s eta 0:00:01\n",
      "   ----------- ---------------------------- 13.6/46.2 MB 50.4 MB/s eta 0:00:01\n",
      "   ----------- ---------------------------- 13.6/46.2 MB 50.4 MB/s eta 0:00:01\n",
      "   ----------- ---------------------------- 13.6/46.2 MB 50.4 MB/s eta 0:00:01\n",
      "   ----------- ---------------------------- 13.6/46.2 MB 50.4 MB/s eta 0:00:01\n",
      "   ----------- ---------------------------- 13.6/46.2 MB 50.4 MB/s eta 0:00:01\n",
      "   ------------- -------------------------- 16.0/46.2 MB 21.1 MB/s eta 0:00:02\n",
      "   ------------------ --------------------- 21.4/46.2 MB 28.5 MB/s eta 0:00:01\n",
      "   ------------------- -------------------- 22.5/46.2 MB 25.2 MB/s eta 0:00:01\n",
      "   ----------------------- ---------------- 27.1/46.2 MB 72.6 MB/s eta 0:00:01\n",
      "   ------------------------- -------------- 29.4/46.2 MB 81.8 MB/s eta 0:00:01\n",
      "   ------------------------- -------------- 29.4/46.2 MB 81.8 MB/s eta 0:00:01\n",
      "   --------------------------- ------------ 32.3/46.2 MB 59.5 MB/s eta 0:00:01\n",
      "   ------------------------------ --------- 35.8/46.2 MB 59.5 MB/s eta 0:00:01\n",
      "   ----------------------------------- ---- 40.4/46.2 MB 93.9 MB/s eta 0:00:01\n",
      "   ---------------------------------------  45.9/46.2 MB 93.9 MB/s eta 0:00:01\n",
      "   ---------------------------------------  46.2/46.2 MB 110.0 MB/s eta 0:00:01\n",
      "   ---------------------------------------- 46.2/46.2 MB 65.5 MB/s eta 0:00:00\n",
      "Downloading threadpoolctl-3.4.0-py3-none-any.whl (17 kB)\n",
      "Installing collected packages: threadpoolctl, scipy, joblib, scikit-learn\n",
      "Successfully installed joblib-1.3.2 scikit-learn-1.4.1.post1 scipy-1.13.0 threadpoolctl-3.4.0\n"
     ]
    }
   ],
   "source": [
    "# 전처리를 위해 필요한 라이브러리 - 머신러닝과 관련됨\n",
    "# !pip install scikit-learn"
   ]
  },
  {
   "cell_type": "markdown",
   "id": "b4f7fb33-92ae-4739-9bd1-5b3a7e8ea379",
   "metadata": {},
   "source": [
    "## 결측치(Missing Value) 처리\n",
    "- 결측치 : 수집하지 못한 값\n",
    "- 결측치를 처리하기 전에 \"기록되지 않은건지\", \"존재하지 않은건지\"를 확인해야 함\n",
    "\n",
    "### 결측치 처리 방법\n",
    "- 결측치 삭제\n",
    "  - 리스트와이즈 삭제 - 결측치가 있는 행들을 삭제 => 데이터가 많을 때 적합\n",
    "  - 컬럼 삭제 - 속성하나가 날라가므로 타격이 큼. 이런 경우는 많이 없다\n",
    "  - 페어와이즈 삭제 - 분석할때는 사용하지만 머신러닝에서는 사용 X. 실행시점에 삭제함\n"
   ]
  },
  {
   "cell_type": "code",
   "execution_count": 2,
   "id": "51e5a62a-b3fa-4b92-b3f5-19a9d53c736e",
   "metadata": {
    "collapsed": true,
    "jupyter": {
     "outputs_hidden": true
    },
    "scrolled": true
   },
   "outputs": [
    {
     "data": {
      "text/html": [
       "<div>\n",
       "<style scoped>\n",
       "    .dataframe tbody tr th:only-of-type {\n",
       "        vertical-align: middle;\n",
       "    }\n",
       "\n",
       "    .dataframe tbody tr th {\n",
       "        vertical-align: top;\n",
       "    }\n",
       "\n",
       "    .dataframe thead th {\n",
       "        text-align: right;\n",
       "    }\n",
       "</style>\n",
       "<table border=\"1\" class=\"dataframe\">\n",
       "  <thead>\n",
       "    <tr style=\"text-align: right;\">\n",
       "      <th></th>\n",
       "      <th>name</th>\n",
       "      <th>age</th>\n",
       "      <th>weight</th>\n",
       "    </tr>\n",
       "  </thead>\n",
       "  <tbody>\n",
       "    <tr>\n",
       "      <th>0</th>\n",
       "      <td>김영희</td>\n",
       "      <td>23.0</td>\n",
       "      <td>NaN</td>\n",
       "    </tr>\n",
       "    <tr>\n",
       "      <th>1</th>\n",
       "      <td>이명수</td>\n",
       "      <td>18.0</td>\n",
       "      <td>80.0</td>\n",
       "    </tr>\n",
       "    <tr>\n",
       "      <th>2</th>\n",
       "      <td>박진우</td>\n",
       "      <td>25.0</td>\n",
       "      <td>NaN</td>\n",
       "    </tr>\n",
       "    <tr>\n",
       "      <th>3</th>\n",
       "      <td>이수영</td>\n",
       "      <td>32.0</td>\n",
       "      <td>57.0</td>\n",
       "    </tr>\n",
       "    <tr>\n",
       "      <th>4</th>\n",
       "      <td>오영미</td>\n",
       "      <td>NaN</td>\n",
       "      <td>48.0</td>\n",
       "    </tr>\n",
       "  </tbody>\n",
       "</table>\n",
       "</div>"
      ],
      "text/plain": [
       "  name   age  weight\n",
       "0  김영희  23.0     NaN\n",
       "1  이명수  18.0    80.0\n",
       "2  박진우  25.0     NaN\n",
       "3  이수영  32.0    57.0\n",
       "4  오영미   NaN    48.0"
      ]
     },
     "execution_count": 2,
     "metadata": {},
     "output_type": "execute_result"
    }
   ],
   "source": [
    "import pandas as pd\n",
    "import numpy as np\n",
    "data = {\n",
    "    \"name\":['김영희', '이명수', '박진우', '이수영', '오영미'],\n",
    "    \"age\": [23, 18, 25, 32, np.nan], \n",
    "    \"weight\":[np.nan, 80, np.nan, 57, 48]\n",
    "}\n",
    "df = pd.DataFrame(data)\n",
    "df"
   ]
  },
  {
   "cell_type": "code",
   "execution_count": 5,
   "id": "a8ceac11-0852-4eae-83ba-207472507598",
   "metadata": {
    "collapsed": true,
    "jupyter": {
     "outputs_hidden": true
    },
    "scrolled": true
   },
   "outputs": [
    {
     "data": {
      "text/plain": [
       "name      0\n",
       "age       1\n",
       "weight    2\n",
       "dtype: int64"
      ]
     },
     "execution_count": 5,
     "metadata": {},
     "output_type": "execute_result"
    }
   ],
   "source": [
    "# 결측치 확인 - 전체\n",
    "df.isna().sum()  # 컬럼별 결측치 개수"
   ]
  },
  {
   "cell_type": "code",
   "execution_count": 6,
   "id": "0497c43d-ef40-4d55-884d-1921b871a3d2",
   "metadata": {
    "collapsed": true,
    "jupyter": {
     "outputs_hidden": true
    },
    "scrolled": true
   },
   "outputs": [
    {
     "data": {
      "text/plain": [
       "0    1\n",
       "1    0\n",
       "2    1\n",
       "3    0\n",
       "4    1\n",
       "dtype: int64"
      ]
     },
     "execution_count": 6,
     "metadata": {},
     "output_type": "execute_result"
    }
   ],
   "source": [
    "df.isna().sum(axis=1) # 행별로 결측치 개수"
   ]
  },
  {
   "cell_type": "code",
   "execution_count": 9,
   "id": "e7262ade-b7de-4cfb-af7d-e6415692a183",
   "metadata": {},
   "outputs": [
    {
     "data": {
      "text/plain": [
       "0"
      ]
     },
     "execution_count": 9,
     "metadata": {},
     "output_type": "execute_result"
    }
   ],
   "source": [
    "# 결측치 확인 - Series\n",
    "df['name'].isna().sum()"
   ]
  },
  {
   "cell_type": "code",
   "execution_count": 16,
   "id": "efa1c620-76d8-4c47-9a46-7730a1232c92",
   "metadata": {},
   "outputs": [
    {
     "data": {
      "text/plain": [
       "True"
      ]
     },
     "execution_count": 16,
     "metadata": {},
     "output_type": "execute_result"
    }
   ],
   "source": [
    "# 조회한 원소가 결측치인지\n",
    "pd.isna(df.loc[2, 'weight'])  # isna() 함수: arg 값이 결측치인지"
   ]
  },
  {
   "cell_type": "code",
   "execution_count": 17,
   "id": "d000711b-dfb5-4758-bc62-e65fc6589566",
   "metadata": {},
   "outputs": [
    {
     "data": {
      "text/html": [
       "<div>\n",
       "<style scoped>\n",
       "    .dataframe tbody tr th:only-of-type {\n",
       "        vertical-align: middle;\n",
       "    }\n",
       "\n",
       "    .dataframe tbody tr th {\n",
       "        vertical-align: top;\n",
       "    }\n",
       "\n",
       "    .dataframe thead th {\n",
       "        text-align: right;\n",
       "    }\n",
       "</style>\n",
       "<table border=\"1\" class=\"dataframe\">\n",
       "  <thead>\n",
       "    <tr style=\"text-align: right;\">\n",
       "      <th></th>\n",
       "      <th>name</th>\n",
       "      <th>age</th>\n",
       "      <th>weight</th>\n",
       "    </tr>\n",
       "  </thead>\n",
       "  <tbody>\n",
       "    <tr>\n",
       "      <th>1</th>\n",
       "      <td>이명수</td>\n",
       "      <td>18.0</td>\n",
       "      <td>80.0</td>\n",
       "    </tr>\n",
       "    <tr>\n",
       "      <th>3</th>\n",
       "      <td>이수영</td>\n",
       "      <td>32.0</td>\n",
       "      <td>57.0</td>\n",
       "    </tr>\n",
       "  </tbody>\n",
       "</table>\n",
       "</div>"
      ],
      "text/plain": [
       "  name   age  weight\n",
       "1  이명수  18.0    80.0\n",
       "3  이수영  32.0    57.0"
      ]
     },
     "execution_count": 17,
     "metadata": {},
     "output_type": "execute_result"
    }
   ],
   "source": [
    "# 제거 - 행단위(리스트와이즈)\n",
    "df.dropna(axis=0)"
   ]
  },
  {
   "cell_type": "code",
   "execution_count": 18,
   "id": "657d5b8d-67b2-4112-9d1c-a058b5aa6b9a",
   "metadata": {
    "collapsed": true,
    "jupyter": {
     "outputs_hidden": true
    }
   },
   "outputs": [
    {
     "data": {
      "text/html": [
       "<div>\n",
       "<style scoped>\n",
       "    .dataframe tbody tr th:only-of-type {\n",
       "        vertical-align: middle;\n",
       "    }\n",
       "\n",
       "    .dataframe tbody tr th {\n",
       "        vertical-align: top;\n",
       "    }\n",
       "\n",
       "    .dataframe thead th {\n",
       "        text-align: right;\n",
       "    }\n",
       "</style>\n",
       "<table border=\"1\" class=\"dataframe\">\n",
       "  <thead>\n",
       "    <tr style=\"text-align: right;\">\n",
       "      <th></th>\n",
       "      <th>name</th>\n",
       "    </tr>\n",
       "  </thead>\n",
       "  <tbody>\n",
       "    <tr>\n",
       "      <th>0</th>\n",
       "      <td>김영희</td>\n",
       "    </tr>\n",
       "    <tr>\n",
       "      <th>1</th>\n",
       "      <td>이명수</td>\n",
       "    </tr>\n",
       "    <tr>\n",
       "      <th>2</th>\n",
       "      <td>박진우</td>\n",
       "    </tr>\n",
       "    <tr>\n",
       "      <th>3</th>\n",
       "      <td>이수영</td>\n",
       "    </tr>\n",
       "    <tr>\n",
       "      <th>4</th>\n",
       "      <td>오영미</td>\n",
       "    </tr>\n",
       "  </tbody>\n",
       "</table>\n",
       "</div>"
      ],
      "text/plain": [
       "  name\n",
       "0  김영희\n",
       "1  이명수\n",
       "2  박진우\n",
       "3  이수영\n",
       "4  오영미"
      ]
     },
     "execution_count": 18,
     "metadata": {},
     "output_type": "execute_result"
    }
   ],
   "source": [
    "# 컬럼단위\n",
    "df.dropna(axis=1)"
   ]
  },
  {
   "cell_type": "code",
   "execution_count": 20,
   "id": "159b6559-6410-4a03-8cf8-1f1c1020c044",
   "metadata": {},
   "outputs": [
    {
     "data": {
      "text/html": [
       "<div>\n",
       "<style scoped>\n",
       "    .dataframe tbody tr th:only-of-type {\n",
       "        vertical-align: middle;\n",
       "    }\n",
       "\n",
       "    .dataframe tbody tr th {\n",
       "        vertical-align: top;\n",
       "    }\n",
       "\n",
       "    .dataframe thead th {\n",
       "        text-align: right;\n",
       "    }\n",
       "</style>\n",
       "<table border=\"1\" class=\"dataframe\">\n",
       "  <thead>\n",
       "    <tr style=\"text-align: right;\">\n",
       "      <th></th>\n",
       "      <th>age</th>\n",
       "      <th>weight</th>\n",
       "    </tr>\n",
       "  </thead>\n",
       "  <tbody>\n",
       "    <tr>\n",
       "      <th>1</th>\n",
       "      <td>18.0</td>\n",
       "      <td>80.0</td>\n",
       "    </tr>\n",
       "    <tr>\n",
       "      <th>3</th>\n",
       "      <td>32.0</td>\n",
       "      <td>57.0</td>\n",
       "    </tr>\n",
       "  </tbody>\n",
       "</table>\n",
       "</div>"
      ],
      "text/plain": [
       "    age  weight\n",
       "1  18.0    80.0\n",
       "3  32.0    57.0"
      ]
     },
     "execution_count": 20,
     "metadata": {},
     "output_type": "execute_result"
    }
   ],
   "source": [
    "## pair wise 삭제 - 나이와 키간의 상관관계를 분석\n",
    "### 상관관계를 분석 결과: 상관계수. -1 ~ +1 사이의 실수\n",
    "### 양수(0~1): 양의 상관관계. 비례관계\n",
    "### 음수(-1~0): 음의 상관관계. 반비례관계\n",
    "### 0: 관계없\n",
    "df[['age', 'weight']].dropna().corr()"
   ]
  },
  {
   "cell_type": "markdown",
   "id": "9d0356c1-6a26-4ba4-a3a4-15586ae92fbb",
   "metadata": {},
   "source": [
    "### 결측치 대체(imputation)\n",
    "- 그 값일 가능성이 가장 높은 값으로 대체\n",
    "- 여러방법이 있는데 **K-최근접 이웃(K-NN) 대체**가 많이 쓰임"
   ]
  },
  {
   "cell_type": "code",
   "execution_count": 23,
   "id": "530d1fef-8464-4682-b1b6-b4e48223f22a",
   "metadata": {},
   "outputs": [
    {
     "data": {
      "text/html": [
       "<div>\n",
       "<style scoped>\n",
       "    .dataframe tbody tr th:only-of-type {\n",
       "        vertical-align: middle;\n",
       "    }\n",
       "\n",
       "    .dataframe tbody tr th {\n",
       "        vertical-align: top;\n",
       "    }\n",
       "\n",
       "    .dataframe thead th {\n",
       "        text-align: right;\n",
       "    }\n",
       "</style>\n",
       "<table border=\"1\" class=\"dataframe\">\n",
       "  <thead>\n",
       "    <tr style=\"text-align: right;\">\n",
       "      <th></th>\n",
       "      <th>name</th>\n",
       "      <th>age</th>\n",
       "      <th>weight</th>\n",
       "    </tr>\n",
       "  </thead>\n",
       "  <tbody>\n",
       "    <tr>\n",
       "      <th>0</th>\n",
       "      <td>김영희</td>\n",
       "      <td>23.0</td>\n",
       "      <td>100.0</td>\n",
       "    </tr>\n",
       "    <tr>\n",
       "      <th>1</th>\n",
       "      <td>이명수</td>\n",
       "      <td>18.0</td>\n",
       "      <td>80.0</td>\n",
       "    </tr>\n",
       "    <tr>\n",
       "      <th>2</th>\n",
       "      <td>박진우</td>\n",
       "      <td>25.0</td>\n",
       "      <td>100.0</td>\n",
       "    </tr>\n",
       "    <tr>\n",
       "      <th>3</th>\n",
       "      <td>이수영</td>\n",
       "      <td>32.0</td>\n",
       "      <td>57.0</td>\n",
       "    </tr>\n",
       "    <tr>\n",
       "      <th>4</th>\n",
       "      <td>오영미</td>\n",
       "      <td>100.0</td>\n",
       "      <td>48.0</td>\n",
       "    </tr>\n",
       "  </tbody>\n",
       "</table>\n",
       "</div>"
      ],
      "text/plain": [
       "  name    age  weight\n",
       "0  김영희   23.0   100.0\n",
       "1  이명수   18.0    80.0\n",
       "2  박진우   25.0   100.0\n",
       "3  이수영   32.0    57.0\n",
       "4  오영미  100.0    48.0"
      ]
     },
     "execution_count": 23,
     "metadata": {},
     "output_type": "execute_result"
    }
   ],
   "source": [
    "df.fillna(100)  # 전체 NA를 100으로 대체"
   ]
  },
  {
   "cell_type": "code",
   "execution_count": 28,
   "id": "5dcbbc81-cdcc-4a32-a117-334fcb67e512",
   "metadata": {},
   "outputs": [],
   "source": [
    "import pandas as pd\n",
    "import numpy as np\n",
    "\n",
    "df = pd.DataFrame(\n",
    "    [\n",
    "        [1, 2, np.nan],\n",
    "        [3, 4, 3], \n",
    "        [np.nan, 6, 5],\n",
    "        [8, np.nan, 7],\n",
    "        [1, 2, 5],\n",
    "        [np.nan, 1, 7]\n",
    "    ], columns=['A', 'B', 'C']\n",
    ")\n",
    "org = df.copy()"
   ]
  },
  {
   "cell_type": "code",
   "execution_count": 39,
   "id": "c14f5c86-d95a-4074-9a63-54232fefe0a5",
   "metadata": {},
   "outputs": [],
   "source": [
    "# 컬럼별(속성)처리\n",
    "###  평균 대체\n",
    "df['A'] = df['A'].fillna(df['A'].mean())\n",
    "###  중앙값\n",
    "df['B'] = df['B'].fillna(df['B'].median())\n",
    "###  최빈값(범주형)\n",
    "df['C'] = df['C'].fillna(df['C'].mode()[0]) # mode(): Series를 반환"
   ]
  },
  {
   "cell_type": "code",
   "execution_count": 40,
   "id": "5664c945-62df-4934-8adb-60af022fa568",
   "metadata": {},
   "outputs": [
    {
     "data": {
      "text/html": [
       "<div>\n",
       "<style scoped>\n",
       "    .dataframe tbody tr th:only-of-type {\n",
       "        vertical-align: middle;\n",
       "    }\n",
       "\n",
       "    .dataframe tbody tr th {\n",
       "        vertical-align: top;\n",
       "    }\n",
       "\n",
       "    .dataframe thead th {\n",
       "        text-align: right;\n",
       "    }\n",
       "</style>\n",
       "<table border=\"1\" class=\"dataframe\">\n",
       "  <thead>\n",
       "    <tr style=\"text-align: right;\">\n",
       "      <th></th>\n",
       "      <th>A</th>\n",
       "      <th>B</th>\n",
       "      <th>C</th>\n",
       "    </tr>\n",
       "  </thead>\n",
       "  <tbody>\n",
       "    <tr>\n",
       "      <th>0</th>\n",
       "      <td>1.00</td>\n",
       "      <td>2.0</td>\n",
       "      <td>5.0</td>\n",
       "    </tr>\n",
       "    <tr>\n",
       "      <th>1</th>\n",
       "      <td>3.00</td>\n",
       "      <td>4.0</td>\n",
       "      <td>3.0</td>\n",
       "    </tr>\n",
       "    <tr>\n",
       "      <th>2</th>\n",
       "      <td>3.25</td>\n",
       "      <td>6.0</td>\n",
       "      <td>5.0</td>\n",
       "    </tr>\n",
       "    <tr>\n",
       "      <th>3</th>\n",
       "      <td>8.00</td>\n",
       "      <td>2.0</td>\n",
       "      <td>7.0</td>\n",
       "    </tr>\n",
       "    <tr>\n",
       "      <th>4</th>\n",
       "      <td>1.00</td>\n",
       "      <td>2.0</td>\n",
       "      <td>5.0</td>\n",
       "    </tr>\n",
       "    <tr>\n",
       "      <th>5</th>\n",
       "      <td>3.25</td>\n",
       "      <td>1.0</td>\n",
       "      <td>7.0</td>\n",
       "    </tr>\n",
       "  </tbody>\n",
       "</table>\n",
       "</div>"
      ],
      "text/plain": [
       "      A    B    C\n",
       "0  1.00  2.0  5.0\n",
       "1  3.00  4.0  3.0\n",
       "2  3.25  6.0  5.0\n",
       "3  8.00  2.0  7.0\n",
       "4  1.00  2.0  5.0\n",
       "5  3.25  1.0  7.0"
      ]
     },
     "execution_count": 40,
     "metadata": {},
     "output_type": "execute_result"
    }
   ],
   "source": [
    "df"
   ]
  },
  {
   "cell_type": "code",
   "execution_count": 43,
   "id": "4777e5e3-d469-48d3-ae4b-e17032dd5abb",
   "metadata": {},
   "outputs": [
    {
     "data": {
      "text/plain": [
       "array([[1., 2., 5.],\n",
       "       [3., 4., 3.],\n",
       "       [2., 6., 5.],\n",
       "       [8., 2., 7.],\n",
       "       [1., 2., 5.],\n",
       "       [2., 1., 7.]])"
      ]
     },
     "execution_count": 43,
     "metadata": {},
     "output_type": "execute_result"
    }
   ],
   "source": [
    "### scikit-learn 패키지를 이용해서 전처리\n",
    "from sklearn.impute import SimpleImputer\n",
    "\n",
    "df=org.copy()\n",
    "# 객체 생성 -> 어떤값으로 변경할지를 설정\n",
    "imputer = SimpleImputer(strategy=\"median\")\n",
    "# strategy=\"median\":중앙값, \"mean\":평균, \"most_frequent\":최빈값, \"constant\":상수(fill_value=채울값)\n",
    "result = imputer.fit_transform(df)\n",
    "# 변환. axis=0 기준으로 strategy 연산한 값으로 결측치를 대처함. 처리결과: ndarray(numpy)\n",
    "result"
   ]
  },
  {
   "cell_type": "code",
   "execution_count": 45,
   "id": "32d29031-5d76-4312-b8da-016f369b4875",
   "metadata": {},
   "outputs": [
    {
     "data": {
      "text/html": [
       "<div>\n",
       "<style scoped>\n",
       "    .dataframe tbody tr th:only-of-type {\n",
       "        vertical-align: middle;\n",
       "    }\n",
       "\n",
       "    .dataframe tbody tr th {\n",
       "        vertical-align: top;\n",
       "    }\n",
       "\n",
       "    .dataframe thead th {\n",
       "        text-align: right;\n",
       "    }\n",
       "</style>\n",
       "<table border=\"1\" class=\"dataframe\">\n",
       "  <thead>\n",
       "    <tr style=\"text-align: right;\">\n",
       "      <th></th>\n",
       "      <th>A</th>\n",
       "      <th>B</th>\n",
       "      <th>C</th>\n",
       "    </tr>\n",
       "  </thead>\n",
       "  <tbody>\n",
       "    <tr>\n",
       "      <th>0</th>\n",
       "      <td>1.0</td>\n",
       "      <td>2.0</td>\n",
       "      <td>5.0</td>\n",
       "    </tr>\n",
       "    <tr>\n",
       "      <th>1</th>\n",
       "      <td>3.0</td>\n",
       "      <td>4.0</td>\n",
       "      <td>3.0</td>\n",
       "    </tr>\n",
       "    <tr>\n",
       "      <th>2</th>\n",
       "      <td>2.0</td>\n",
       "      <td>6.0</td>\n",
       "      <td>5.0</td>\n",
       "    </tr>\n",
       "    <tr>\n",
       "      <th>3</th>\n",
       "      <td>8.0</td>\n",
       "      <td>2.0</td>\n",
       "      <td>7.0</td>\n",
       "    </tr>\n",
       "    <tr>\n",
       "      <th>4</th>\n",
       "      <td>1.0</td>\n",
       "      <td>2.0</td>\n",
       "      <td>5.0</td>\n",
       "    </tr>\n",
       "    <tr>\n",
       "      <th>5</th>\n",
       "      <td>2.0</td>\n",
       "      <td>1.0</td>\n",
       "      <td>7.0</td>\n",
       "    </tr>\n",
       "  </tbody>\n",
       "</table>\n",
       "</div>"
      ],
      "text/plain": [
       "     A    B    C\n",
       "0  1.0  2.0  5.0\n",
       "1  3.0  4.0  3.0\n",
       "2  2.0  6.0  5.0\n",
       "3  8.0  2.0  7.0\n",
       "4  1.0  2.0  5.0\n",
       "5  2.0  1.0  7.0"
      ]
     },
     "execution_count": 45,
     "metadata": {},
     "output_type": "execute_result"
    }
   ],
   "source": [
    "result_df = pd.DataFrame(result, columns=df.columns)\n",
    "result_df"
   ]
  },
  {
   "cell_type": "code",
   "execution_count": 49,
   "id": "21220690-94a6-4e84-98ed-03105720c8c0",
   "metadata": {},
   "outputs": [
    {
     "data": {
      "text/html": [
       "<div>\n",
       "<style scoped>\n",
       "    .dataframe tbody tr th:only-of-type {\n",
       "        vertical-align: middle;\n",
       "    }\n",
       "\n",
       "    .dataframe tbody tr th {\n",
       "        vertical-align: top;\n",
       "    }\n",
       "\n",
       "    .dataframe thead th {\n",
       "        text-align: right;\n",
       "    }\n",
       "</style>\n",
       "<table border=\"1\" class=\"dataframe\">\n",
       "  <thead>\n",
       "    <tr style=\"text-align: right;\">\n",
       "      <th></th>\n",
       "      <th>A</th>\n",
       "      <th>B</th>\n",
       "      <th>C</th>\n",
       "    </tr>\n",
       "  </thead>\n",
       "  <tbody>\n",
       "    <tr>\n",
       "      <th>0</th>\n",
       "      <td>1.0</td>\n",
       "      <td>2.0</td>\n",
       "      <td>5.4</td>\n",
       "    </tr>\n",
       "    <tr>\n",
       "      <th>1</th>\n",
       "      <td>3.0</td>\n",
       "      <td>4.0</td>\n",
       "      <td>3.0</td>\n",
       "    </tr>\n",
       "    <tr>\n",
       "      <th>2</th>\n",
       "      <td>2.0</td>\n",
       "      <td>6.0</td>\n",
       "      <td>5.0</td>\n",
       "    </tr>\n",
       "    <tr>\n",
       "      <th>3</th>\n",
       "      <td>8.0</td>\n",
       "      <td>2.0</td>\n",
       "      <td>7.0</td>\n",
       "    </tr>\n",
       "    <tr>\n",
       "      <th>4</th>\n",
       "      <td>1.0</td>\n",
       "      <td>2.0</td>\n",
       "      <td>5.0</td>\n",
       "    </tr>\n",
       "    <tr>\n",
       "      <th>5</th>\n",
       "      <td>2.0</td>\n",
       "      <td>1.0</td>\n",
       "      <td>7.0</td>\n",
       "    </tr>\n",
       "  </tbody>\n",
       "</table>\n",
       "</div>"
      ],
      "text/plain": [
       "     A    B    C\n",
       "0  1.0  2.0  5.4\n",
       "1  3.0  4.0  3.0\n",
       "2  2.0  6.0  5.0\n",
       "3  8.0  2.0  7.0\n",
       "4  1.0  2.0  5.0\n",
       "5  2.0  1.0  7.0"
      ]
     },
     "execution_count": 49,
     "metadata": {},
     "output_type": "execute_result"
    }
   ],
   "source": [
    "df = org.copy()\n",
    "# \"A\", \"B\": 중앙값  \"C\": 평균\n",
    "imputer1 = SimpleImputer(strategy=\"median\")\n",
    "imputer2 = SimpleImputer(strategy=\"mean\")\n",
    "# fit(): 변환할 때 필요한 값들을 찾아서 instance변수에 저장. (컬럼별 평균, 중앙값)\n",
    "# transform(): 변환작업\n",
    "# fit_transform(): fit(), transform()을 순서대로 한번에 처리\n",
    "result1 = imputer1.fit_transform(df[['A', 'B']])\n",
    "result2 = imputer2.fit_transform(df['C'].to_frame()) # 변환대상은 행/열의 2차원으로 입력해야한다 (6,) -> (6,1)\n",
    "# print(result1)\n",
    "# print(result2)\n",
    "result_df = pd.concat([pd.DataFrame(result1), pd.DataFrame(result2)], axis=1)\n",
    "result_df.columns = df.columns\n",
    "result_df"
   ]
  },
  {
   "cell_type": "code",
   "execution_count": 51,
   "id": "e8382797-d3f2-44aa-a93f-e85efd9885a2",
   "metadata": {},
   "outputs": [
    {
     "data": {
      "text/plain": [
       "(6, 1)"
      ]
     },
     "execution_count": 51,
     "metadata": {},
     "output_type": "execute_result"
    }
   ],
   "source": [
    "# 2차원 형태로 넣어줘야한다. 그래서 시리즈일때는 데이터프레임형태로 바꿔서 넣어주기\n",
    "df['C'].shape # 시리즈\n",
    "df['C'].to_frame().shape # 데이터프레임"
   ]
  },
  {
   "cell_type": "code",
   "execution_count": 52,
   "id": "2d2a6a60-2cde-4861-8e94-b1a0eaf49da5",
   "metadata": {},
   "outputs": [
    {
     "data": {
      "text/html": [
       "<div>\n",
       "<style scoped>\n",
       "    .dataframe tbody tr th:only-of-type {\n",
       "        vertical-align: middle;\n",
       "    }\n",
       "\n",
       "    .dataframe tbody tr th {\n",
       "        vertical-align: top;\n",
       "    }\n",
       "\n",
       "    .dataframe thead th {\n",
       "        text-align: right;\n",
       "    }\n",
       "</style>\n",
       "<table border=\"1\" class=\"dataframe\">\n",
       "  <thead>\n",
       "    <tr style=\"text-align: right;\">\n",
       "      <th></th>\n",
       "      <th>A</th>\n",
       "      <th>B</th>\n",
       "      <th>C</th>\n",
       "    </tr>\n",
       "  </thead>\n",
       "  <tbody>\n",
       "    <tr>\n",
       "      <th>0</th>\n",
       "      <td>1.0</td>\n",
       "      <td>2.0</td>\n",
       "      <td>NaN</td>\n",
       "    </tr>\n",
       "    <tr>\n",
       "      <th>1</th>\n",
       "      <td>3.0</td>\n",
       "      <td>4.0</td>\n",
       "      <td>3.0</td>\n",
       "    </tr>\n",
       "    <tr>\n",
       "      <th>2</th>\n",
       "      <td>NaN</td>\n",
       "      <td>6.0</td>\n",
       "      <td>5.0</td>\n",
       "    </tr>\n",
       "    <tr>\n",
       "      <th>3</th>\n",
       "      <td>8.0</td>\n",
       "      <td>NaN</td>\n",
       "      <td>7.0</td>\n",
       "    </tr>\n",
       "    <tr>\n",
       "      <th>4</th>\n",
       "      <td>1.0</td>\n",
       "      <td>2.0</td>\n",
       "      <td>5.0</td>\n",
       "    </tr>\n",
       "    <tr>\n",
       "      <th>5</th>\n",
       "      <td>NaN</td>\n",
       "      <td>1.0</td>\n",
       "      <td>7.0</td>\n",
       "    </tr>\n",
       "  </tbody>\n",
       "</table>\n",
       "</div>"
      ],
      "text/plain": [
       "     A    B    C\n",
       "0  1.0  2.0  NaN\n",
       "1  3.0  4.0  3.0\n",
       "2  NaN  6.0  5.0\n",
       "3  8.0  NaN  7.0\n",
       "4  1.0  2.0  5.0\n",
       "5  NaN  1.0  7.0"
      ]
     },
     "execution_count": 52,
     "metadata": {},
     "output_type": "execute_result"
    }
   ],
   "source": [
    "# KNNImputer 이용해 결측치를 대체\n",
    "## 머신러닝 알고리즘 중 K-NN을 이용 (K 최근접(Nearest) 이웃(Neighbors))\n",
    "from sklearn.impute import KNNImputer\n",
    "\n",
    "df = org.copy()\n",
    "df"
   ]
  },
  {
   "cell_type": "code",
   "execution_count": 53,
   "id": "a7adbfd9-f084-4775-9a27-1f3f921009ad",
   "metadata": {},
   "outputs": [
    {
     "data": {
      "text/html": [
       "<div>\n",
       "<style scoped>\n",
       "    .dataframe tbody tr th:only-of-type {\n",
       "        vertical-align: middle;\n",
       "    }\n",
       "\n",
       "    .dataframe tbody tr th {\n",
       "        vertical-align: top;\n",
       "    }\n",
       "\n",
       "    .dataframe thead th {\n",
       "        text-align: right;\n",
       "    }\n",
       "</style>\n",
       "<table border=\"1\" class=\"dataframe\">\n",
       "  <thead>\n",
       "    <tr style=\"text-align: right;\">\n",
       "      <th></th>\n",
       "      <th>A</th>\n",
       "      <th>B</th>\n",
       "      <th>C</th>\n",
       "    </tr>\n",
       "  </thead>\n",
       "  <tbody>\n",
       "    <tr>\n",
       "      <th>0</th>\n",
       "      <td>1.0</td>\n",
       "      <td>2.0</td>\n",
       "      <td>5.0</td>\n",
       "    </tr>\n",
       "    <tr>\n",
       "      <th>1</th>\n",
       "      <td>3.0</td>\n",
       "      <td>4.0</td>\n",
       "      <td>3.0</td>\n",
       "    </tr>\n",
       "    <tr>\n",
       "      <th>2</th>\n",
       "      <td>3.0</td>\n",
       "      <td>6.0</td>\n",
       "      <td>5.0</td>\n",
       "    </tr>\n",
       "    <tr>\n",
       "      <th>3</th>\n",
       "      <td>8.0</td>\n",
       "      <td>1.0</td>\n",
       "      <td>7.0</td>\n",
       "    </tr>\n",
       "    <tr>\n",
       "      <th>4</th>\n",
       "      <td>1.0</td>\n",
       "      <td>2.0</td>\n",
       "      <td>5.0</td>\n",
       "    </tr>\n",
       "    <tr>\n",
       "      <th>5</th>\n",
       "      <td>8.0</td>\n",
       "      <td>1.0</td>\n",
       "      <td>7.0</td>\n",
       "    </tr>\n",
       "  </tbody>\n",
       "</table>\n",
       "</div>"
      ],
      "text/plain": [
       "     A    B    C\n",
       "0  1.0  2.0  5.0\n",
       "1  3.0  4.0  3.0\n",
       "2  3.0  6.0  5.0\n",
       "3  8.0  1.0  7.0\n",
       "4  1.0  2.0  5.0\n",
       "5  8.0  1.0  7.0"
      ]
     },
     "execution_count": 53,
     "metadata": {},
     "output_type": "execute_result"
    }
   ],
   "source": [
    "imputer = KNNImputer(n_neighbors=1) # 가장 가까운값 몇개(1)를 이용해서 결측치를 찾을지\n",
    "result = imputer.fit_transform(df)\n",
    "result_df = pd.DataFrame(result, columns=df.columns)\n",
    "result_df\n",
    "\n",
    "# 결측치를 제외한 나머지 값들이 가까운 값을 찾는"
   ]
  },
  {
   "cell_type": "markdown",
   "id": "c18b576c-a4b9-43ca-8a98-20dceed74bf3",
   "metadata": {},
   "source": [
    "## 이상치(Outlier) 처리\n",
    "- 이상치는 컬럼별로 본다 -> 나이와 키가 있으면 나이는 나이별로 보고 키는 키별로 본다\n",
    "\n",
    "\n",
    "### 이상치 식별\n",
    "- 통계적 기준\n",
    "  - 표준편차 기준: 평균으로부터 K 표준편차 범위 밖으로 떨어진 데이터를 outlier로 판단\n",
    "  - 분위수 기준: IQR을 이용해 Outlier여부를 찾는다\n",
    "    - 1분위, 3분위에서 IQR * 1.5보다 더 떨어진 값을 outlier로 판단한다. 1.5는 변경가능\n",
    "  - 극단치(분포에서 벗어난 값): 정상적인 값이지만 다른 패턴을 가지는 값. 일반적으로 극단적으로 크거나 작은 값"
   ]
  },
  {
   "cell_type": "code",
   "execution_count": 54,
   "id": "f35d72b0-ed38-4a8d-86a4-8485823ca59a",
   "metadata": {},
   "outputs": [
    {
     "data": {
      "text/html": [
       "<div>\n",
       "<style scoped>\n",
       "    .dataframe tbody tr th:only-of-type {\n",
       "        vertical-align: middle;\n",
       "    }\n",
       "\n",
       "    .dataframe tbody tr th {\n",
       "        vertical-align: top;\n",
       "    }\n",
       "\n",
       "    .dataframe thead th {\n",
       "        text-align: right;\n",
       "    }\n",
       "</style>\n",
       "<table border=\"1\" class=\"dataframe\">\n",
       "  <thead>\n",
       "    <tr style=\"text-align: right;\">\n",
       "      <th></th>\n",
       "      <th>a</th>\n",
       "      <th>b</th>\n",
       "      <th>c</th>\n",
       "    </tr>\n",
       "  </thead>\n",
       "  <tbody>\n",
       "    <tr>\n",
       "      <th>0</th>\n",
       "      <td>100.000000</td>\n",
       "      <td>10.800314</td>\n",
       "      <td>200.000000</td>\n",
       "    </tr>\n",
       "    <tr>\n",
       "      <th>1</th>\n",
       "      <td>14.481786</td>\n",
       "      <td>13.735116</td>\n",
       "      <td>8.045444</td>\n",
       "    </tr>\n",
       "    <tr>\n",
       "      <th>2</th>\n",
       "      <td>11.900177</td>\n",
       "      <td>9.697286</td>\n",
       "      <td>9.793562</td>\n",
       "    </tr>\n",
       "    <tr>\n",
       "      <th>3</th>\n",
       "      <td>300.000000</td>\n",
       "      <td>10.288087</td>\n",
       "      <td>-100.000000</td>\n",
       "    </tr>\n",
       "    <tr>\n",
       "      <th>4</th>\n",
       "      <td>11.522075</td>\n",
       "      <td>10.243350</td>\n",
       "      <td>10.887726</td>\n",
       "    </tr>\n",
       "    <tr>\n",
       "      <th>5</th>\n",
       "      <td>10.667349</td>\n",
       "      <td>12.988158</td>\n",
       "      <td>9.589683</td>\n",
       "    </tr>\n",
       "    <tr>\n",
       "      <th>6</th>\n",
       "      <td>10.626135</td>\n",
       "      <td>8.291809</td>\n",
       "      <td>4.894020</td>\n",
       "    </tr>\n",
       "    <tr>\n",
       "      <th>7</th>\n",
       "      <td>11.307237</td>\n",
       "      <td>11.728872</td>\n",
       "      <td>8.515670</td>\n",
       "    </tr>\n",
       "    <tr>\n",
       "      <th>8</th>\n",
       "      <td>14.539509</td>\n",
       "      <td>7.091269</td>\n",
       "      <td>10.091517</td>\n",
       "    </tr>\n",
       "    <tr>\n",
       "      <th>9</th>\n",
       "      <td>9.625632</td>\n",
       "      <td>13.065558</td>\n",
       "      <td>12.938718</td>\n",
       "    </tr>\n",
       "  </tbody>\n",
       "</table>\n",
       "</div>"
      ],
      "text/plain": [
       "            a          b           c\n",
       "0  100.000000  10.800314  200.000000\n",
       "1   14.481786  13.735116    8.045444\n",
       "2   11.900177   9.697286    9.793562\n",
       "3  300.000000  10.288087 -100.000000\n",
       "4   11.522075  10.243350   10.887726\n",
       "5   10.667349  12.988158    9.589683\n",
       "6   10.626135   8.291809    4.894020\n",
       "7   11.307237  11.728872    8.515670\n",
       "8   14.539509   7.091269   10.091517\n",
       "9    9.625632  13.065558   12.938718"
      ]
     },
     "execution_count": 54,
     "metadata": {},
     "output_type": "execute_result"
    }
   ],
   "source": [
    "import pandas as pd\n",
    "import numpy as np\n",
    "np.random.seed(0)\n",
    "# 평균:10, 표준편차:2 기준의 정규분포를 따르는 난수를 생성. 10행,3열 형태로 생성.\n",
    "df = pd.DataFrame(np.random.normal(10, 2, size=(10, 3)), columns=['a', 'b', 'c'])\n",
    "df.iloc[[0, 3], [0, 2]] = [[100, 200],[300,-100]]\n",
    "df"
   ]
  },
  {
   "cell_type": "code",
   "execution_count": 55,
   "id": "5d2ca0b8-cadc-47c4-a93f-0a33b9f5068b",
   "metadata": {},
   "outputs": [
    {
     "data": {
      "text/html": [
       "<div>\n",
       "<style scoped>\n",
       "    .dataframe tbody tr th:only-of-type {\n",
       "        vertical-align: middle;\n",
       "    }\n",
       "\n",
       "    .dataframe tbody tr th {\n",
       "        vertical-align: top;\n",
       "    }\n",
       "\n",
       "    .dataframe thead th {\n",
       "        text-align: right;\n",
       "    }\n",
       "</style>\n",
       "<table border=\"1\" class=\"dataframe\">\n",
       "  <thead>\n",
       "    <tr style=\"text-align: right;\">\n",
       "      <th></th>\n",
       "      <th>a</th>\n",
       "      <th>c</th>\n",
       "    </tr>\n",
       "  </thead>\n",
       "  <tbody>\n",
       "    <tr>\n",
       "      <th>0</th>\n",
       "      <td>100.0</td>\n",
       "      <td>200.0</td>\n",
       "    </tr>\n",
       "    <tr>\n",
       "      <th>3</th>\n",
       "      <td>300.0</td>\n",
       "      <td>-100.0</td>\n",
       "    </tr>\n",
       "  </tbody>\n",
       "</table>\n",
       "</div>"
      ],
      "text/plain": [
       "       a      c\n",
       "0  100.0  200.0\n",
       "3  300.0 -100.0"
      ]
     },
     "execution_count": 55,
     "metadata": {},
     "output_type": "execute_result"
    }
   ],
   "source": [
    "df.iloc[[0,3], [0,2]]"
   ]
  },
  {
   "cell_type": "code",
   "execution_count": 57,
   "id": "18ffe66a-03ed-4078-bab5-81de17adb12b",
   "metadata": {},
   "outputs": [
    {
     "data": {
      "text/plain": [
       "0.25    10.827321\n",
       "0.75    14.525079\n",
       "Name: a, dtype: float64"
      ]
     },
     "execution_count": 57,
     "metadata": {},
     "output_type": "execute_result"
    }
   ],
   "source": [
    "# 분위수를 기준으로 outlier를 찾기(식별)\n",
    "### 1분위, 3분위계산......\n",
    "q1, q3 = df['a'].quantile(q=[0.25, 0.75]) # 시리즈 대입\n",
    "iqr = q3-q4 # IQR: 1분위 ~ 3단위격 크기\n",
    "iqr *= q3=q1"
   ]
  },
  {
   "cell_type": "code",
   "execution_count": 60,
   "id": "52e30d80-b606-40b7-b850-987edf8b82fc",
   "metadata": {},
   "outputs": [],
   "source": [
    "# outlier계산 함수\n",
    "def is_outlier(column, whis=1.5):\n",
    "    # whis(whisker): 정상범위를 조정하는 값. 기본값 1.5 범위를 넓힐 경우 더 큰값\n",
    "    # 1,3분위수 계산\n",
    "    q1, q3 = column.quantile(q=[0.25, 0.75])\n",
    "    iqr = (q3 - q1) * whis # IQR의 whis 배 한 값\n",
    "    # 원소별로 outlier인지 체크\n",
    "    return ~column.between(q1-iqr, q3+iqr)"
   ]
  },
  {
   "cell_type": "code",
   "execution_count": 61,
   "id": "8f4118da-1279-457b-a9f0-9ed47b1be185",
   "metadata": {},
   "outputs": [
    {
     "data": {
      "text/plain": [
       "0     True\n",
       "1    False\n",
       "2    False\n",
       "3     True\n",
       "4    False\n",
       "5    False\n",
       "6    False\n",
       "7    False\n",
       "8    False\n",
       "9    False\n",
       "Name: a, dtype: bool"
      ]
     },
     "execution_count": 61,
     "metadata": {},
     "output_type": "execute_result"
    }
   ],
   "source": [
    "is_outlier(df['a'])"
   ]
  },
  {
   "cell_type": "code",
   "execution_count": 62,
   "id": "dcb31c05-760e-4ad3-961a-b304ea3fe0bb",
   "metadata": {},
   "outputs": [
    {
     "data": {
      "text/html": [
       "<div>\n",
       "<style scoped>\n",
       "    .dataframe tbody tr th:only-of-type {\n",
       "        vertical-align: middle;\n",
       "    }\n",
       "\n",
       "    .dataframe tbody tr th {\n",
       "        vertical-align: top;\n",
       "    }\n",
       "\n",
       "    .dataframe thead th {\n",
       "        text-align: right;\n",
       "    }\n",
       "</style>\n",
       "<table border=\"1\" class=\"dataframe\">\n",
       "  <thead>\n",
       "    <tr style=\"text-align: right;\">\n",
       "      <th></th>\n",
       "      <th>a</th>\n",
       "      <th>b</th>\n",
       "      <th>c</th>\n",
       "    </tr>\n",
       "  </thead>\n",
       "  <tbody>\n",
       "    <tr>\n",
       "      <th>0</th>\n",
       "      <td>True</td>\n",
       "      <td>False</td>\n",
       "      <td>True</td>\n",
       "    </tr>\n",
       "    <tr>\n",
       "      <th>1</th>\n",
       "      <td>False</td>\n",
       "      <td>False</td>\n",
       "      <td>False</td>\n",
       "    </tr>\n",
       "    <tr>\n",
       "      <th>2</th>\n",
       "      <td>False</td>\n",
       "      <td>False</td>\n",
       "      <td>False</td>\n",
       "    </tr>\n",
       "    <tr>\n",
       "      <th>3</th>\n",
       "      <td>True</td>\n",
       "      <td>False</td>\n",
       "      <td>True</td>\n",
       "    </tr>\n",
       "    <tr>\n",
       "      <th>4</th>\n",
       "      <td>False</td>\n",
       "      <td>False</td>\n",
       "      <td>False</td>\n",
       "    </tr>\n",
       "    <tr>\n",
       "      <th>5</th>\n",
       "      <td>False</td>\n",
       "      <td>False</td>\n",
       "      <td>False</td>\n",
       "    </tr>\n",
       "    <tr>\n",
       "      <th>6</th>\n",
       "      <td>False</td>\n",
       "      <td>False</td>\n",
       "      <td>False</td>\n",
       "    </tr>\n",
       "    <tr>\n",
       "      <th>7</th>\n",
       "      <td>False</td>\n",
       "      <td>False</td>\n",
       "      <td>False</td>\n",
       "    </tr>\n",
       "    <tr>\n",
       "      <th>8</th>\n",
       "      <td>False</td>\n",
       "      <td>False</td>\n",
       "      <td>False</td>\n",
       "    </tr>\n",
       "    <tr>\n",
       "      <th>9</th>\n",
       "      <td>False</td>\n",
       "      <td>False</td>\n",
       "      <td>False</td>\n",
       "    </tr>\n",
       "  </tbody>\n",
       "</table>\n",
       "</div>"
      ],
      "text/plain": [
       "       a      b      c\n",
       "0   True  False   True\n",
       "1  False  False  False\n",
       "2  False  False  False\n",
       "3   True  False   True\n",
       "4  False  False  False\n",
       "5  False  False  False\n",
       "6  False  False  False\n",
       "7  False  False  False\n",
       "8  False  False  False\n",
       "9  False  False  False"
      ]
     },
     "execution_count": 62,
     "metadata": {},
     "output_type": "execute_result"
    }
   ],
   "source": [
    "result = df.apply(is_outlier)\n",
    "result"
   ]
  },
  {
   "cell_type": "code",
   "execution_count": 63,
   "id": "1f914b3b-724b-4f15-916f-229bd55bb85a",
   "metadata": {},
   "outputs": [
    {
     "data": {
      "text/plain": [
       "a    2\n",
       "b    0\n",
       "c    2\n",
       "dtype: int64"
      ]
     },
     "execution_count": 63,
     "metadata": {},
     "output_type": "execute_result"
    }
   ],
   "source": [
    "result.sum()"
   ]
  },
  {
   "cell_type": "code",
   "execution_count": 65,
   "id": "509f2c6b-0bb5-4942-a8e6-843c70518271",
   "metadata": {},
   "outputs": [
    {
     "name": "stdout",
     "output_type": "stream",
     "text": [
      "[0 1 3 3 1 2 0 2]\n"
     ]
    }
   ],
   "source": [
    "items = ['TV', '냉장고', '컴퓨터', '컴퓨터', '냉장고', '에어콘',  'TV', '에어콘']\n",
    "\n",
    "# labelEncoder를 이용해서 인코딩할 때 입력값은 1차원 자료구조\n",
    "import numpy as np\n",
    "from sklearn.preprocessing import LabelEncoder\n",
    "\n",
    "# LabelEncoder의 instance 생성\n",
    "le = LabelEncoder()\n",
    "# 학습(fit) -> 각 고유값들을 찾고 그 고유값을 어떤 정수로 바꿀지 계산\n",
    "le.fit(items)\n",
    "# 변환(transform()) -> 학습 결과에 맞춰서 값들을 변환\n",
    "result1 = le.transform(items) # 처리결과: ndarray(numpy 자료구조)\n",
    "print(result1)"
   ]
  },
  {
   "cell_type": "code",
   "execution_count": 76,
   "id": "23002413-9cbf-4873-9985-412fbe06add4",
   "metadata": {},
   "outputs": [
    {
     "name": "stdout",
     "output_type": "stream",
     "text": [
      "['TV' '냉장고' '에어콘' '컴퓨터']\n"
     ]
    }
   ],
   "source": [
    "# 어떻게 변환했는지 fit(학습)한 결과를 조회\n",
    "\n",
    "print(le.classes_) # 값: 고유값, index: encoding "
   ]
  },
  {
   "cell_type": "code",
   "execution_count": 77,
   "id": "a0791a9a-1eee-48f8-84be-e0d0c68a8a9d",
   "metadata": {},
   "outputs": [
    {
     "data": {
      "text/plain": [
       "array(['TV', '냉장고', '컴퓨터', '컴퓨터', '냉장고', '에어콘', 'TV', '에어콘'], dtype='<U3')"
      ]
     },
     "execution_count": 77,
     "metadata": {},
     "output_type": "execute_result"
    }
   ],
   "source": [
    "le.classes_[result1]"
   ]
  },
  {
   "cell_type": "code",
   "execution_count": 81,
   "id": "c85c7488-df49-44a6-b41a-54dcb2ad1a47",
   "metadata": {},
   "outputs": [
    {
     "data": {
      "text/plain": [
       "array([0, 1, 3, 3, 1, 2, 0, 2], dtype=int64)"
      ]
     },
     "execution_count": 81,
     "metadata": {},
     "output_type": "execute_result"
    }
   ],
   "source": [
    "# fit 대상과 transform 대상이 동일한 경우 -> fit_transform() 한번에 변환\n",
    "le2 = LabelEncoder()\n",
    "result2 = le2.fit_transform(items)\n",
    "result2"
   ]
  },
  {
   "cell_type": "code",
   "execution_count": 82,
   "id": "5dee47fe-e920-456b-b2ab-ad90a11cdc14",
   "metadata": {},
   "outputs": [
    {
     "data": {
      "text/plain": [
       "array(['냉장고', '냉장고', '냉장고', '에어콘', '에어콘'], dtype='<U3')"
      ]
     },
     "execution_count": 82,
     "metadata": {},
     "output_type": "execute_result"
    }
   ],
   "source": [
    "## encoding된 것을 decoding (정수 -> 원래 범주값)\n",
    "le2.inverse_transform([1, 1, 1, 2, 2])"
   ]
  },
  {
   "cell_type": "code",
   "execution_count": 86,
   "id": "2e4dfeac-b6e1-4f0d-849d-01fe31091f84",
   "metadata": {},
   "outputs": [
    {
     "data": {
      "text/plain": [
       "array(['TV', '공기청정기', '냉장고', '노트북', '에어콘', '청소기', '컴퓨터'], dtype='<U5')"
      ]
     },
     "execution_count": 86,
     "metadata": {},
     "output_type": "execute_result"
    }
   ],
   "source": [
    "## 학습대상과 변환대상이 다른경우\n",
    "le3 = LabelEncoder()\n",
    "le3.fit(['TV', '에어콘', '컴퓨터', '냉장고', '노트북', '공기청정기', '청소기'])\n",
    "le3.classes_"
   ]
  },
  {
   "cell_type": "code",
   "execution_count": 87,
   "id": "a6adbe41-bd2b-41f1-8ff2-8ce4baee9237",
   "metadata": {},
   "outputs": [
    {
     "data": {
      "text/plain": [
       "array([0, 2, 6, 6, 2, 4, 0, 4])"
      ]
     },
     "execution_count": 87,
     "metadata": {},
     "output_type": "execute_result"
    }
   ],
   "source": [
    "le3.transform(items)"
   ]
  },
  {
   "cell_type": "code",
   "execution_count": 88,
   "id": "ca6283a5-a8d7-40d6-8fcf-836a077396c8",
   "metadata": {},
   "outputs": [],
   "source": [
    "cols = ['age', 'workclass','fnlwgt','education', 'education-num', 'marital-status', 'occupation','relationship', 'race', 'gender','capital-gain','capital-loss', 'hours-per-week','native-country', 'income']"
   ]
  },
  {
   "cell_type": "code",
   "execution_count": 91,
   "id": "10ff7a99-c34f-4a59-8007-daabe7afba0a",
   "metadata": {},
   "outputs": [
    {
     "data": {
      "text/plain": [
       "(32561, 15)"
      ]
     },
     "execution_count": 91,
     "metadata": {},
     "output_type": "execute_result"
    }
   ],
   "source": [
    "import pandas as pd\n",
    "\n",
    "data = pd.read_csv('data/adult.data', \n",
    "                   header=None,   # 컬럼명이 없다. 첫번째줄부터 데이터 행\n",
    "                   names=cols,    # 컬럼명 설정\n",
    "                   na_values='?', # ?를 결측치로 읽어라\n",
    "                   skipinitialspace=True \n",
    "                  )\n",
    "data.shape"
   ]
  },
  {
   "cell_type": "code",
   "execution_count": 92,
   "id": "046a50e4-9bd2-4605-a1b0-5b4d268f7324",
   "metadata": {},
   "outputs": [
    {
     "data": {
      "text/plain": [
       "age               0\n",
       "workclass         0\n",
       "fnlwgt            0\n",
       "education         0\n",
       "education-num     0\n",
       "marital-status    0\n",
       "occupation        0\n",
       "relationship      0\n",
       "race              0\n",
       "gender            0\n",
       "capital-gain      0\n",
       "capital-loss      0\n",
       "hours-per-week    0\n",
       "native-country    0\n",
       "income            0\n",
       "dtype: int64"
      ]
     },
     "execution_count": 92,
     "metadata": {},
     "output_type": "execute_result"
    }
   ],
   "source": [
    "## 결측치 제거\n",
    "data.dropna(inplace=True)\n",
    "data.isna().sum()"
   ]
  }
 ],
 "metadata": {
  "kernelspec": {
   "display_name": "Python 3 (ipykernel)",
   "language": "python",
   "name": "python3"
  },
  "language_info": {
   "codemirror_mode": {
    "name": "ipython",
    "version": 3
   },
   "file_extension": ".py",
   "mimetype": "text/x-python",
   "name": "python",
   "nbconvert_exporter": "python",
   "pygments_lexer": "ipython3",
   "version": "3.11.8"
  }
 },
 "nbformat": 4,
 "nbformat_minor": 5
}
