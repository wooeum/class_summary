{
 "cells": [
  {
   "cell_type": "markdown",
   "id": "5364f728-529d-49a1-9ec5-af3db0690b29",
   "metadata": {},
   "source": [
    "# Pandas\n",
    "- 데이터 분석과 관련된 다양한 기능을 제공하는 파이썬 패키지\n",
    "  - 데이터 셋을 이용한 다양한 통계 처리 기능을 제공\n",
    "  - 표 형태의 데이터를 다루는데 특화됨\n",
    "  - 표 형태의 데이터를 다루기 위한 **시리즈(Series)** 와 **데이터프레임(DataFrame)** 클래스 제공"
   ]
  },
  {
   "cell_type": "markdown",
   "id": "5ad5fa71-6c73-4d13-bb34-a6bb7c3c66e0",
   "metadata": {},
   "source": [
    "# Series\n",
    "- 1차원 자료구조\n",
    "- DataFrame의 한 행이나 열을 표현함\n",
    "- 각 원소는 index와 index 이름을 가지고 사용자가 이용가능\n",
    "- 백터화 연산(element-wise 연산)을 지원\n",
    "\n",
    "### Series 생성\n",
    "- Series(1차원의 iterable) \\\n",
    " => 1차원 구조의 자료구조에 값을 넣어 생성한다"
   ]
  },
  {
   "cell_type": "code",
   "execution_count": 3,
   "id": "7a3b4af7-dd49-439a-92d5-d6c851b7cd29",
   "metadata": {},
   "outputs": [],
   "source": [
    "import pandas as pd\n",
    "\n",
    "s1 = pd.Series([0, 10, 20, 30, 40, 50, 60])\n",
    "s2 = pd.Series([70, 80, 90, 50, 60],\n",
    "              index = ['국어', '국어', '수학', '과학', '국사'])"
   ]
  },
  {
   "cell_type": "code",
   "execution_count": 5,
   "id": "7b164593-4613-4fdd-845c-89dc3f0c0362",
   "metadata": {
    "scrolled": true
   },
   "outputs": [
    {
     "name": "stdout",
     "output_type": "stream",
     "text": [
      "0     0\n",
      "1    10\n",
      "2    20\n",
      "3    30\n",
      "4    40\n",
      "5    50\n",
      "6    60\n",
      "dtype: int64\n",
      "국어    70\n",
      "국어    80\n",
      "수학    90\n",
      "과학    50\n",
      "국사    60\n",
      "dtype: int64\n"
     ]
    }
   ],
   "source": [
    "print(s1)\n",
    "print(s2)"
   ]
  },
  {
   "cell_type": "markdown",
   "id": "e65bbf50-69d9-44d2-bc86-40cd7208a3fd",
   "metadata": {},
   "source": [
    "- Series를 생성할 때 index를 지정하지 않으면 양의 index(순번)이 index이름이 된다\n",
    "- dtpye: 원소들의 데이터 타입"
   ]
  },
  {
   "cell_type": "code",
   "execution_count": 12,
   "id": "456b6714-cfce-4a22-92f2-c3d65fbe26ec",
   "metadata": {},
   "outputs": [
    {
     "data": {
      "text/plain": [
       "국어    70\n",
       "국어    80\n",
       "dtype: int64"
      ]
     },
     "execution_count": 12,
     "metadata": {},
     "output_type": "execute_result"
    }
   ],
   "source": [
    "s2['국어']"
   ]
  },
  {
   "cell_type": "code",
   "execution_count": 18,
   "id": "264b011d-0149-4591-a37c-475185a04fce",
   "metadata": {},
   "outputs": [
    {
     "data": {
      "text/plain": [
       "numpy.int64"
      ]
     },
     "execution_count": 18,
     "metadata": {},
     "output_type": "execute_result"
    }
   ],
   "source": [
    "b = s2['수학']\n",
    "type(b)"
   ]
  },
  {
   "cell_type": "code",
   "execution_count": 17,
   "id": "3b155026-eae5-4987-a517-0e51f797a3f7",
   "metadata": {},
   "outputs": [
    {
     "data": {
      "text/plain": [
       "tuple"
      ]
     },
     "execution_count": 17,
     "metadata": {},
     "output_type": "execute_result"
    }
   ],
   "source": [
    "a = s2.iloc[1],s2['수학']\n",
    "type(a)"
   ]
  },
  {
   "cell_type": "markdown",
   "id": "84713eb6-21ac-434d-a355-261e396a956b",
   "metadata": {},
   "source": [
    "#### index 이름으로 조회했을 때 조회결과\n",
    "- 2개 이상인 경우 -> Series로 반환\n",
    "- 1개일 경우 -> 해당 index 이름의 원소값을 보여줌\n",
    "\n",
    "- iloc[]은 직접 몇번째 값인지를 지정해주므로 원소의 값을 보여줌\n",
    "\n",
    "#### 데이터 형태\n",
    "- 하나일때: numpy.int64\n",
    "- 여러개 일때: tuple"
   ]
  },
  {
   "cell_type": "code",
   "execution_count": 22,
   "id": "6efe0a92-9d43-4ca7-943f-17937824eb7f",
   "metadata": {},
   "outputs": [
    {
     "data": {
      "text/plain": [
       "a    70\n",
       "b    80\n",
       "c    90\n",
       "d    50\n",
       "e    60\n",
       "dtype: int64"
      ]
     },
     "execution_count": 22,
     "metadata": {},
     "output_type": "execute_result"
    }
   ],
   "source": [
    "# index 이름 한번에 변경 가능 => 개수가 같아야됨\n",
    "s2.index = list(\"abcde\")\n",
    "s2"
   ]
  },
  {
   "cell_type": "code",
   "execution_count": 27,
   "id": "d653e7c5-683c-4da7-8583-4e6ce8b2cb09",
   "metadata": {},
   "outputs": [
    {
     "data": {
      "text/plain": [
       "a    70\n",
       "b    80\n",
       "c    90\n",
       "d    50\n",
       "e    60\n",
       "dtype: int64"
      ]
     },
     "execution_count": 27,
     "metadata": {},
     "output_type": "execute_result"
    }
   ],
   "source": [
    "# 개별 index 이름 변경 => 딕셔너리 형태로  {현재이름: 바꿀이름} 으로 제공해줘야됨. inplace=True는 원본 변경한다는 \n",
    "s2.rename({'A': 'a'}, inplace=True)\n",
    "s2"
   ]
  },
  {
   "cell_type": "markdown",
   "id": "7ec24dd3-6e8f-4244-a0d0-38d07329f01d",
   "metadata": {},
   "source": [
    "### Series안의 원소 접근 - Indexing과 Slicing\n",
    "- series의 원소들은 두 종류의 index를 가진다\n",
    "  - 내부적으로 관리되는 index(순번) -> 리스트나 튜플의 index와 동일\n",
    "  - index name -> 명시적으로 각 원소에 지정하는 이름(중복 가능) -> 딕셔너리의 key 역할을 한다\n",
    "- indexing\n",
    "  - index로 조회: Series.iloc[순번]\n",
    "  - index 이름으로 조회: Series[index이름] / Series.loc[index이름] / Series.index이름\n",
    "  - 팬시(fancy) 인덱싱: Series[index리스트]  -> 한 번에 여러개의 원소를 조회할 경우 조회할 index들을 list로 묶어서 전달\n",
    "- slicing"
   ]
  },
  {
   "cell_type": "code",
   "execution_count": null,
   "id": "d10756b1-0c5e-4bd5-b371-105dbf7e4c21",
   "metadata": {},
   "outputs": [],
   "source": []
  }
 ],
 "metadata": {
  "kernelspec": {
   "display_name": "Python 3 (ipykernel)",
   "language": "python",
   "name": "python3"
  },
  "language_info": {
   "codemirror_mode": {
    "name": "ipython",
    "version": 3
   },
   "file_extension": ".py",
   "mimetype": "text/x-python",
   "name": "python",
   "nbconvert_exporter": "python",
   "pygments_lexer": "ipython3",
   "version": "3.11.8"
  }
 },
 "nbformat": 4,
 "nbformat_minor": 5
}
